{
 "cells": [
  {
   "cell_type": "code",
   "execution_count": 1,
   "id": "30a6e6a6",
   "metadata": {},
   "outputs": [
    {
     "name": "stdout",
     "output_type": "stream",
     "text": [
      "[frozenset({'spam'}), frozenset({'milk', 'bread', 'eggs'})]\n",
      "{('bread', 'milk', 'eggs'): 0.8571428571428571, ('spam',): 0.7142857142857143}\n"
     ]
    }
   ],
   "source": [
    "import numpy as np\n",
    "import pandas as pd\n",
    "from apyori import apriori\n",
    "\n",
    "def create_candidates(frequent_item_sets, k):\n",
    "    \"\"\"\n",
    "    Creates the candidate itemsets of size k from the frequent itemsets of size k-1\n",
    "    \"\"\"\n",
    "    candidates = []\n",
    "    for i in range(len(frequent_item_sets)):\n",
    "        for j in range(i+1, len(frequent_item_sets)):\n",
    "            a = set(frequent_item_sets[i])\n",
    "            b = set(frequent_item_sets[j])\n",
    "            if len(a.union(b)) == k:\n",
    "                candidates.append(list(a.union(b)))\n",
    "    return candidates\n",
    "\n",
    "def generate_frequent_item_sets(transactions, candidates, min_support):\n",
    "    \"\"\"\n",
    "    Generates the frequent item sets from the candidate item sets using the minimum support value\n",
    "    \"\"\"\n",
    "    item_count = {}\n",
    "    for candidate in candidates:\n",
    "        for transaction in transactions:\n",
    "            if set(candidate).issubset(set(transaction)):\n",
    "                if tuple(candidate) in item_count:\n",
    "                    item_count[tuple(candidate)] += 1\n",
    "                else:\n",
    "                    item_count[tuple(candidate)] = 1\n",
    "    frequent_item_sets = []\n",
    "    support_data = {}\n",
    "    num_transactions = len(transactions)\n",
    "    for key, value in item_count.items():\n",
    "        if (value/num_transactions) >= min_support:\n",
    "            frequent_item_sets.append(list(key))\n",
    "            support_data[tuple(list(key))] = value/num_transactions\n",
    "    return frequent_item_sets, support_data\n",
    "\n",
    "def apriori(transactions, min_support, min_confidence):\n",
    "    \"\"\"\n",
    "    Main function to implement the Apriori Algorithm\n",
    "    \"\"\"\n",
    "    frequent_item_sets = []\n",
    "    support_data = {}\n",
    "    transaction_list = list(map(set, transactions))\n",
    "    candidates = list(map(frozenset, transaction_list))\n",
    "    k = 2\n",
    "    while candidates:\n",
    "        frequent_item_sets, support_data = generate_frequent_item_sets(transaction_list, candidates, min_support)\n",
    "        frequent_item_sets = [list(item) for item in frequent_item_sets]\n",
    "        if frequent_item_sets:\n",
    "            frequent_item_sets = sorted(frequent_item_sets, key=lambda x: len(x))\n",
    "            frequent_item_sets = [frozenset(item) for item in frequent_item_sets]\n",
    "            candidates = create_candidates(frequent_item_sets, k)\n",
    "            k += 1\n",
    "        else:\n",
    "            break\n",
    "    return frequent_item_sets, support_data\n",
    "\n",
    "# Example usage\n",
    "\n",
    "transactions = [\n",
    "    ['milk', 'bread', 'eggs', 'spam'],\n",
    "    ['milk', 'bread', 'eggs'],\n",
    "    ['milk', 'spam'],\n",
    "    ['milk', 'bread', 'spam'],\n",
    "    ['eggs', 'spam'],\n",
    "    ['milk', 'bread', 'eggs'],\n",
    "    ['spam']\n",
    "]\n",
    "\n",
    "frequent_item_sets, support_data = apriori(transactions, 0.6, 0.6)\n",
    "\n",
    "# Output:\n",
    "print(frequent_item_sets)\n",
    "print(support_data)\n",
    "\n"
   ]
  },
  {
   "cell_type": "code",
   "execution_count": null,
   "id": "170ded55",
   "metadata": {},
   "outputs": [],
   "source": []
  }
 ],
 "metadata": {
  "kernelspec": {
   "display_name": "Python 3 (ipykernel)",
   "language": "python",
   "name": "python3"
  },
  "language_info": {
   "codemirror_mode": {
    "name": "ipython",
    "version": 3
   },
   "file_extension": ".py",
   "mimetype": "text/x-python",
   "name": "python",
   "nbconvert_exporter": "python",
   "pygments_lexer": "ipython3",
   "version": "3.9.13"
  }
 },
 "nbformat": 4,
 "nbformat_minor": 5
}
