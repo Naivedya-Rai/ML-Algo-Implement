{
 "cells": [
  {
   "cell_type": "markdown",
   "id": "9b2327d9",
   "metadata": {},
   "source": [
    "ML LAB ASSIGNMENT 2 - Naivedya Rai - 20070122083 - CSB1\n",
    "\n",
    "QUESTION \n",
    "The probability that it is Friday and that a student is absent is 3%. Since there are five school\n",
    "days in a week, the probability that it is Friday is 20%. What is the probability that a student\n",
    "is absent given that today is Friday?\n",
    "\n",
    "Ref.: Apply Baye’s rule in python to get the result\n",
    "    "
   ]
  },
  {
   "cell_type": "code",
   "execution_count": 3,
   "id": "63e2b056",
   "metadata": {},
   "outputs": [
    {
     "name": "stdout",
     "output_type": "stream",
     "text": [
      "The Probablity will be  15.0 %\n"
     ]
    }
   ],
   "source": [
    "p_f = 0.2\n",
    "p_fa = 0.03\n",
    "p_result= p_fa/p_f\n",
    "print(\"The Probablity will be \" , p_result*100 ,\"%\")"
   ]
  },
  {
   "cell_type": "code",
   "execution_count": null,
   "id": "cd927d39",
   "metadata": {},
   "outputs": [],
   "source": []
  }
 ],
 "metadata": {
  "kernelspec": {
   "display_name": "Python 3 (ipykernel)",
   "language": "python",
   "name": "python3"
  },
  "language_info": {
   "codemirror_mode": {
    "name": "ipython",
    "version": 3
   },
   "file_extension": ".py",
   "mimetype": "text/x-python",
   "name": "python",
   "nbconvert_exporter": "python",
   "pygments_lexer": "ipython3",
   "version": "3.9.13"
  }
 },
 "nbformat": 4,
 "nbformat_minor": 5
}
